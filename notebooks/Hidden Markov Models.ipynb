{
 "cells": [
  {
   "cell_type": "markdown",
   "metadata": {},
   "source": [
    "# The model"
   ]
  },
  {
   "cell_type": "code",
   "execution_count": 1,
   "metadata": {
    "collapsed": true
   },
   "outputs": [],
   "source": [
    "%matplotlib inline "
   ]
  },
  {
   "cell_type": "code",
   "execution_count": 3,
   "metadata": {
    "collapsed": false
   },
   "outputs": [
    {
     "data": {
      "text/plain": [
       "<matplotlib.axes._axes.Axes at 0x7f2e1a6077d0>"
      ]
     },
     "execution_count": 3,
     "metadata": {},
     "output_type": "execute_result"
    },
    {
     "data": {
      "image/png": "[encoded data removed]",
      "text/plain": [
       "<matplotlib.figure.Figure at 0x7f2e1a607210>"
      ]
     },
     "metadata": {},
     "output_type": "display_data"
    }
   ],
   "source": [
    "import daft\n",
    "hmm = daft.PGM([5, 2.05], origin=[0.3, 0.3], observed_style=\"inner\")\n",
    "\n",
    "hmm.add_node(daft.Node(\"x1\", r\"$x_1$\", 1, 1, observed = True))\n",
    "hmm.add_node(daft.Node(\"z1\", r\"$z_1$\", 1, 2))\n",
    "\n",
    "hmm.add_node(daft.Node(\"x2\", r\"$x_2$\", 2, 1, observed = True))\n",
    "hmm.add_node(daft.Node(\"z2\", r\"$z_2$\", 2, 2))\n",
    "\n",
    "hmm.add_node(daft.Node(\"xn\", r\"$x_n$\", 4, 1, observed = True))\n",
    "hmm.add_node(daft.Node(\"zn\", r\"$z_n$\", 4, 2))\n",
    "\n",
    "\n",
    "hmm.add_edge(\"z1\", \"x1\")\n",
    "hmm.add_edge(\"z2\", \"x2\")\n",
    "hmm.add_edge(\"zn\", \"xn\")\n",
    "\n",
    "hmm.add_edge(\"z1\", \"z2\")\n",
    "\n",
    "hmm.add_edge(\"z2\", \"zn\")\n",
    "\n",
    "\n",
    "\n",
    "hmm.render()\n",
    "\n"
   ]
  },
  {
   "cell_type": "code",
   "execution_count": null,
   "metadata": {
    "collapsed": true
   },
   "outputs": [],
   "source": []
  }
 ],
 "metadata": {
  "kernelspec": {
   "display_name": "Python 2",
   "language": "python",
   "name": "python2"
  },
  "language_info": {
   "codemirror_mode": {
    "name": "ipython",
    "version": 2
   },
   "file_extension": ".py",
   "mimetype": "text/x-python",
   "name": "python",
   "nbconvert_exporter": "python",
   "pygments_lexer": "ipython2",
   "version": "2.7.11"
  }
 },
 "nbformat": 4,
 "nbformat_minor": 0
}
