{
 "cells": [
  {
   "cell_type": "markdown",
   "metadata": {},
   "source": [
    "# Hidden Markov Models"
   ]
  },
  {
   "cell_type": "code",
   "execution_count": 1,
   "metadata": {
    "collapsed": true
   },
   "outputs": [],
   "source": [
    "%matplotlib inline "
   ]
  },
  {
   "cell_type": "code",
   "execution_count": 2,
   "metadata": {
    "collapsed": false
   },
   "outputs": [
    {
     "data": {
      "text/plain": [
       "<matplotlib.axes._axes.Axes at 0x7f681c5a6610>"
      ]
     },
     "execution_count": 2,
     "metadata": {},
     "output_type": "execute_result"
    },
    {
     "data": {
      "image/png": "[encoded data removed]",
      "text/plain": [
       "<matplotlib.figure.Figure at 0x7f681c572d10>"
      ]
     },
     "metadata": {},
     "output_type": "display_data"
    }
   ],
   "source": [
    "import daft\n",
    "\n",
    "p_color = {\"ec\": \"#ffffff\"}\n",
    "\n",
    "hmm = daft.PGM([5, 2.05], origin=[0.3, 0.3], observed_style=\"inner\")\n",
    "\n",
    "hmm.add_node(daft.Node(\"x1\", r\"$x_1$\", 1, 1, observed = True))\n",
    "hmm.add_node(daft.Node(\"z1\", r\"$z_1$\", 1, 2))\n",
    "\n",
    "hmm.add_node(daft.Node(\"x2\", r\"$x_2$\", 2, 1, observed = True))\n",
    "hmm.add_node(daft.Node(\"z2\", r\"$z_2$\", 2, 2))\n",
    "\n",
    "hmm.add_node(daft.Node(\"z3\", \"...\", 3, 2, plot_params=p_color))\n",
    "\n",
    "hmm.add_node(daft.Node(\"xn\", r\"$x_n$\", 4, 1, observed = True))\n",
    "hmm.add_node(daft.Node(\"zn\", r\"$z_n$\", 4, 2))\n",
    "\n",
    "\n",
    "hmm.add_edge(\"z1\", \"x1\")\n",
    "hmm.add_edge(\"z2\", \"x2\")\n",
    "hmm.add_edge(\"zn\", \"xn\")\n",
    "\n",
    "hmm.add_edge(\"z1\", \"z2\")\n",
    "\n",
    "hmm.add_edge(\"z2\", \"z3\")\n",
    "hmm.add_edge(\"z3\", \"zn\")\n",
    "\n",
    "\n",
    "\n",
    "hmm.render()\n",
    "\n"
   ]
  },
  {
   "cell_type": "markdown",
   "metadata": {},
   "source": [
    "## Joint Distribution\n",
    "\n",
    "$ p(x_1, x_2, ..., x_n, z_1, z_2, ... z_n) = p(z_1)p(x_1 | z_1)\\prod_{k=2}^{n} p(z_k | z_{k-1})p(x_k | z_k)$ \n",
    "\n"
   ]
  },
  {
   "cell_type": "markdown",
   "metadata": {
    "collapsed": true
   },
   "source": [
    "## Introduction\n",
    "HMMs are widely used for modeling time series. Used in Speech recognition, data compression, computer vision and data science.\n",
    "\n",
    "These represent probability distributions over sequences of observations. So observation $x_k$ is generated by a process whose state $z_k$ is hidden. The hidden state observes the *Markov property*, given value $z_{t-1}$, the current state is independent of states prior to $t-1$. i.e the last state defines all we need to know in order to predict future observations. The obeservations also obey the *Markov property* that they depned only on state $z_t$. These assumptionas allow the model to be factored in a way as above. The state $z_k$ can take discrete values."
   ]
  },
  {
   "cell_type": "markdown",
   "metadata": {},
   "source": [
    "To define the probability distribution we need to specify the initial state $P(z_1)$, the $S x S$ matrix state transition matrix, where S is the number of states, and the output model $P(x_k | z_k)$. Normaly the assumption that the STM and output model are not dependent on k i.e. is *time invariant* . If the $xs$ take discrete values these can be modeld by a $n x L$ observation matrix."
   ]
  },
  {
   "cell_type": "markdown",
   "metadata": {},
   "source": [
    "For real values observations $P(x_k | z_k)$ can be modelled in many ways, such as Gaussian, mixture of Gaussians or neural nets. "
   ]
  },
  {
   "cell_type": "code",
   "execution_count": null,
   "metadata": {
    "collapsed": true
   },
   "outputs": [],
   "source": []
  }
 ],
 "metadata": {
  "kernelspec": {
   "display_name": "Python 2",
   "language": "python",
   "name": "python2"
  },
  "language_info": {
   "codemirror_mode": {
    "name": "ipython",
    "version": 2
   },
   "file_extension": ".py",
   "mimetype": "text/x-python",
   "name": "python",
   "nbconvert_exporter": "python",
   "pygments_lexer": "ipython2",
   "version": "2.7.11"
  }
 },
 "nbformat": 4,
 "nbformat_minor": 0
}
